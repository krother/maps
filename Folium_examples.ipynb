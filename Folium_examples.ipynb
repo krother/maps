{
 "cells": [
  {
   "cell_type": "markdown",
   "metadata": {},
   "source": [
    "# Drawing maps with Python\n",
    "An introduction to the `folium` library.\n",
    "\n",
    "*by Dr. Kristian Rother for SPICED Academy*"
   ]
  },
  {
   "cell_type": "markdown",
   "metadata": {},
   "source": [
    "## Our first map"
   ]
  },
  {
   "cell_type": "code",
   "execution_count": null,
   "metadata": {},
   "outputs": [],
   "source": [
    "import folium"
   ]
  },
  {
   "cell_type": "code",
   "execution_count": null,
   "metadata": {},
   "outputs": [],
   "source": [
    "berlin = folium.Map(location=[52.49, 13.36], \n",
    "                    zoom_start=10,\n",
    "                    tiles='OpenStreetMap')"
   ]
  },
  {
   "cell_type": "markdown",
   "metadata": {},
   "source": [
    "> **WARNING:** Never assign your maps to a variable called `map`. This would override a builting Python function."
   ]
  },
  {
   "cell_type": "code",
   "execution_count": null,
   "metadata": {},
   "outputs": [],
   "source": [
    "berlin.save('map.html')"
   ]
  },
  {
   "cell_type": "markdown",
   "metadata": {},
   "source": [
    "### Jupyter integration\n",
    "It is dead easy to display a `folium` map in Jupyter:"
   ]
  },
  {
   "cell_type": "code",
   "execution_count": null,
   "metadata": {},
   "outputs": [],
   "source": [
    "berlin"
   ]
  },
  {
   "cell_type": "markdown",
   "metadata": {},
   "source": [
    "### Different tilesets\n",
    "Set `tiles` to any of:\n",
    "\n",
    "* `OpenStreetMap`\n",
    "* `Stamen Terrain`\n",
    "* `Stamen Watercolor`\n",
    "* `CartoDB positron`\n",
    "\n",
    "Full list with `help(folium.Map)`"
   ]
  },
  {
   "cell_type": "markdown",
   "metadata": {},
   "source": [
    "## Retrieving coordinates\n",
    "If you have an address and need the coordinates, go to *Google maps* or use **`geopy`**:"
   ]
  },
  {
   "cell_type": "code",
   "execution_count": null,
   "metadata": {},
   "outputs": [],
   "source": [
    "from geopy.geocoders import Nominatim\n",
    "\n",
    "loc = Nominatim().geocode(\"Potsdamer Str. 188, 10783 Berlin\")\n",
    "loc.address"
   ]
  },
  {
   "cell_type": "code",
   "execution_count": null,
   "metadata": {},
   "outputs": [],
   "source": [
    "coord = loc.latitude, loc.longitude\n",
    "coord"
   ]
  },
  {
   "cell_type": "markdown",
   "metadata": {},
   "source": [
    "### Adding markers\n",
    "More than 200 icons like `star`, `fire`, `shopping-cart` from the [Glyphicons Halflings icons in Bootstrap](http://getbootstrap.com/components/) can be added as **Markers**."
   ]
  },
  {
   "cell_type": "code",
   "execution_count": null,
   "metadata": {},
   "outputs": [],
   "source": [
    "spiced = folium.Marker(coord, popup='SPICED Academy',\n",
    "            icon=folium.Icon(icon='star',\n",
    "            color='orange'))\n",
    "spiced.add_to(berlin)\n",
    "\n",
    "berlin.zoom_start = 15\n",
    "berlin"
   ]
  },
  {
   "cell_type": "markdown",
   "metadata": {},
   "source": [
    "> **Hint:** Popups may include HTML by using\n",
    "\n",
    "    popup=folium.Popup(df['NAME'],parse_html=True))"
   ]
  },
  {
   "cell_type": "markdown",
   "metadata": {},
   "source": [
    "### Images as markers\n",
    "You can insert marker images via their URL:"
   ]
  },
  {
   "cell_type": "code",
   "execution_count": null,
   "metadata": {},
   "outputs": [],
   "source": [
    "from folium.features import CustomIcon\n",
    "\n",
    "atom = CustomIcon('https://www.spiced-academy.com/images/icons/data-science-red.svg', \n",
    "                      icon_size=(100, 100))\n",
    "\n",
    "spiced = folium.Marker(coord, popup='SPICED Academy',\n",
    "                       icon=atom)\n",
    "spiced.add_to(berlin)\n",
    "\n",
    "berlin.zoom_start = 15\n",
    "berlin"
   ]
  },
  {
   "cell_type": "markdown",
   "metadata": {},
   "source": [
    "### Lines and polygons\n",
    "The `PolyLine` class draws a list of coordinate tuples."
   ]
  },
  {
   "cell_type": "code",
   "execution_count": null,
   "metadata": {},
   "outputs": [],
   "source": [
    "from folium.features import PolyLine\n",
    "\n",
    "path = [coord, (52.4854861, 13.3554854), \n",
    "        (52.4816845, 13.3478464), (52.4719682, 13.3350867)]\n",
    "\n",
    "line = PolyLine(path, \n",
    "             popup=\"my favourite ice cream shop\",\n",
    "             color=\"blue\",\n",
    "             weight=5,\n",
    "             opacity=0.8)\n",
    "\n",
    "line.add_to(berlin)\n",
    "berlin"
   ]
  },
  {
   "cell_type": "markdown",
   "metadata": {},
   "source": [
    "> **Hint:** The (lat, long) I got out of Google maps were not very accurate. To get the line at least close to the road, `geopy` worked much better."
   ]
  },
  {
   "cell_type": "markdown",
   "metadata": {},
   "source": [
    "## GeoJSON"
   ]
  },
  {
   "cell_type": "code",
   "execution_count": null,
   "metadata": {},
   "outputs": [],
   "source": [
    "geojson = open('bezirksgrenzen.geojson').read()\n",
    "geojson[:600]"
   ]
  },
  {
   "cell_type": "markdown",
   "metadata": {},
   "source": [
    "> **Note:** in this file, the district names can be found in `properties -> Gemeinde_name`. In another file they may be somewhere else in the `features` dictionary."
   ]
  },
  {
   "cell_type": "code",
   "execution_count": null,
   "metadata": {},
   "outputs": [],
   "source": [
    "# get all district names\n",
    "import re\n",
    "\n",
    "districts = re.findall(r'Gemeinde_name\": \"([^,]+)\",', geojson)\n",
    "districts"
   ]
  },
  {
   "cell_type": "markdown",
   "metadata": {},
   "source": [
    "## Choropleth\n",
    "\n",
    "(from $\\chi \\omega \\rho \\omicron \\sigma$, greek *\"area\", \"region\"*. **Not \"chloropleth\"**)"
   ]
  },
  {
   "cell_type": "code",
   "execution_count": null,
   "metadata": {},
   "outputs": [],
   "source": [
    "import pandas as pd\n",
    "import random\n",
    "\n",
    "data = [random.randint(1, 10) for d in districts]\n",
    "  \n",
    "df = pd.DataFrame({'value': data, 'district': districts})\n",
    "df"
   ]
  },
  {
   "cell_type": "code",
   "execution_count": null,
   "metadata": {},
   "outputs": [],
   "source": [
    "berlin = folium.Map(location=[52.54, 13.36], \n",
    "                    zoom_start=10,\n",
    "                    tiles='CartoDB positron')\n",
    " \n",
    "berlin.choropleth(\n",
    "    geo_data='bezirksgrenzen.geojson',\n",
    "    name='chloropleth',\n",
    "    data=df,\n",
    "    columns=['district', 'value'],\n",
    "    key_on='properties.Gemeinde_name',\n",
    "    fill_color='YlOrRd',\n",
    "    fill_opacity=0.7,\n",
    "    line_opacity=0.2,\n",
    "    legend_name='Spicy Gradient'\n",
    ")\n",
    "folium.LayerControl().add_to(berlin)\n",
    "berlin"
   ]
  },
  {
   "cell_type": "markdown",
   "metadata": {},
   "source": [
    "Folium uses the [ColorBrewer](http://colorbrewer2.org/) gradients also used in **D3.js**. On the web page, you find the abbreviations in the URL."
   ]
  },
  {
   "cell_type": "markdown",
   "metadata": {},
   "source": [
    "### Where to find GeoJSON files?\n",
    "\n",
    "* **Berlin:** [Technologiestiftung Berlin](https://lab.technologiestiftung-berlin.de/projects/spatial-units/index.html)\n",
    "* **Germany:** [github.com/isellsoap/deutschlandGeoJSON](https://github.com/isellsoap/deutschlandGeoJSON)\n",
    "* **German postal codes:** [github.com/yetzt/postleitzahlen](https://github.com/yetzt/postleitzahlen)\n",
    "* **World / Europe:** [geojson-maps.ash.ms](https://geojson-maps.ash.ms/)"
   ]
  },
  {
   "cell_type": "markdown",
   "metadata": {},
   "source": [
    "> **Hint:** Did you know that [Github can display GeoJSON](https://github.com/isellsoap/deutschlandGeoJSON/blob/master/2_bundeslaender/4_niedrig.geojson)?"
   ]
  },
  {
   "cell_type": "markdown",
   "metadata": {},
   "source": [
    "## Further reading\n",
    "\n",
    "* [Folium quickstart](https://python-visualization.github.io/folium/docs-v0.5.0/quickstart.html)\n",
    "* [Detailed documentation](https://python-visualization.github.io/folium/docs-v0.5.0/modules.html)\n",
    "* [GeoJSON Tutorial](https://leafletjs.com/examples/geojson/)\n",
    "* [Alternatives to Google Maps](http://geoawesomeness.com/looking-for-google-maps-api-alternatives-here-are-the-best-picks/)"
   ]
  },
  {
   "cell_type": "markdown",
   "metadata": {},
   "source": [
    "## License\n",
    "\n",
    "(c) 2018 SPICED Academy. For personal use only."
   ]
  },
  {
   "cell_type": "code",
   "execution_count": null,
   "metadata": {},
   "outputs": [],
   "source": []
  }
 ],
 "metadata": {
  "kernelspec": {
   "display_name": "Python 3",
   "language": "python",
   "name": "python3"
  },
  "language_info": {
   "codemirror_mode": {
    "name": "ipython",
    "version": 3
   },
   "file_extension": ".py",
   "mimetype": "text/x-python",
   "name": "python",
   "nbconvert_exporter": "python",
   "pygments_lexer": "ipython3",
   "version": "3.6.5"
  }
 },
 "nbformat": 4,
 "nbformat_minor": 2
}
